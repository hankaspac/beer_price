{
 "cells": [
  {
   "cell_type": "code",
   "execution_count": 1,
   "metadata": {},
   "outputs": [],
   "source": [
    "import os\n",
    "import matplotlib.pyplot as plt\n",
    "import matplotlib.image as implt\n",
    "import numpy as np\n",
    "import cv2\n",
    "import glob\n",
    "import PIL\n",
    "from PIL import Image, ImageEnhance\n",
    "import pandas as pd\n",
    "from torchvision.utils import save_image\n",
    "import random"
   ]
  },
  {
   "cell_type": "code",
   "execution_count": 2,
   "metadata": {},
   "outputs": [],
   "source": [
    "def random_values(list):\n",
    "    rand_num = random.choice(list)\n",
    "    return rand_num"
   ]
  },
  {
   "cell_type": "code",
   "execution_count": 3,
   "metadata": {},
   "outputs": [
    {
     "data": {
      "text/plain": [
       "0.1"
      ]
     },
     "execution_count": 3,
     "metadata": {},
     "output_type": "execute_result"
    }
   ],
   "source": [
    "random_values([0.1,0.2,0.3,0.4,0.5])"
   ]
  },
  {
   "cell_type": "code",
   "execution_count": null,
   "metadata": {},
   "outputs": [],
   "source": [
    "import PIL.Image\n",
    "\n",
    "\n",
    "my_path_train_imgs = './train_imgs_augm/'\n",
    "my_file_train_data = 'train_data.xlsx'\n",
    "\n",
    "train_data_excel = pd.read_excel(my_file_train_data)\n",
    "# values_for_brightness = [0.5, 0.6, 0.7, 0.8, 0.9, 1.0, 1.1, 1.2, 1.3, 1.4, 1.5, 1.6, 1.7, 1.8] # firstthird augmentation\n",
    "# values_for_rotate = [5, 8, 10, 12, 15, 0 ,-5, -8, -10, -12, -15, -18, 18] # first augmentation\n",
    "# values_for_brightness = [0.8, 0.9, 1.0, 1.1, 1.1, 1.1, 1.2, 1.3, 1.4] # fourth augmentation 9\n",
    "# values_for_rotate = [5, 8, 10, 12, 0, 0 ,0 ,-5, -8, -10, -12] # second augmentation 11\n",
    "\n",
    "values_for_brightness = [0.9, 1.0, 1.0, 1.0, 1.1]       # last augmentation\n",
    "values_for_rotate = [5, 8, 10, 0, 0, 0, -5, -8, -10]    # last augmentation\n",
    "\n",
    "\n",
    "df_nw = pd.DataFrame()\n",
    "img_num = 0\n",
    "set_len = len(train_data_excel)\n",
    "for i in range(set_len):\n",
    "    img = Image.open(my_path_train_imgs + train_data_excel['filename'][i])\n",
    "    img_conv = ImageEnhance.Brightness(img)\n",
    "    img_conv = img_conv.enhance(random_values(values_for_brightness))\n",
    "    img_rot = img_conv.rotate(random_values(values_for_rotate))\n",
    "    img_rot.save('./train_imgs_augm/img_aug_br_rot5_'+str(img_num)+'.jpg')\n",
    "    \n",
    "    new_row = {'label': [train_data_excel['label'][i]], 'p_label': [train_data_excel['p_label'][i]], 'filename': ['img_aug_br_rot5_'+str(img_num)+'.jpg'], 'name': [train_data_excel['name'][i]], 'price': [train_data_excel['price'][i]], }\n",
    "    \n",
    "    my_row = pd.DataFrame(new_row)\n",
    "    df_nw = pd.concat([df_nw, my_row], ignore_index=True)\n",
    "    img_num += 1\n",
    "    \n",
    "df_file = pd.read_excel(my_file_train_data)\n",
    "df_file = pd.concat([df_file, df_nw], ignore_index=True)\n",
    "df_file.to_excel(my_file_train_data, index=False)"
   ]
  },
  {
   "cell_type": "code",
   "execution_count": null,
   "metadata": {},
   "outputs": [],
   "source": [
    "# import PIL.Image\n",
    "\n",
    "\n",
    "# my_path_train_imgs = './train_imgs_augm/'\n",
    "# copy_path = './train_imgs_original_with_407_imgs/'\n",
    "# my_file_train_data = 'train_data.xlsx'\n",
    "# my_file_original = 'train_data_original.xlsx'\n",
    "\n",
    "# train_data_excel = pd.read_excel(my_file_train_data)\n",
    "# original_data_excel = pd.read_excel(my_file_original)\n",
    "# values_for_brightness = [0.5, 0.6, 0.7, 0.8, 0.9, 1.0, 1.1, 1.2, 1.3, 1.4, 1.5, 1.6, 1.7, 1.8] \n",
    "# values_for_rotate = [5, 8, 10, 12, 15, 0 ,-5, -8, -10, -12, -15, -18, 18] \n",
    "# # values_for_brightness = [0.8, 0.9, 1.0, 1.1, 1.1, 1.1, 1.2, 1.3, 1.4] \n",
    "# # values_for_rotate = [5, 8, 10, 12, 0, 0 ,0 ,-5, -8, -10, -12] \n",
    "\n",
    "# # values_for_brightness = [0.8, 0.9, 1.1, 1.2]\n",
    "# # values_for_rotate = [5, 10, -5, -10]\n",
    "\n",
    "\n",
    "# df_nw = pd.DataFrame()\n",
    "# img_num = 0\n",
    "# set_len = len(train_data_excel)\n",
    "# for i in range(407):\n",
    "#     img = Image.open(copy_path + train_data_excel['filename'][i])\n",
    "#     img_conv = ImageEnhance.Brightness(img)\n",
    "#     img_conv = img_conv.enhance(random_values(values_for_brightness)) #.save('./train_imgs_augm/img_aug_br_'+str(img_num)+'.jpg')\n",
    "#     img_rot = img_conv.rotate(random_values(values_for_rotate))\n",
    "#     img_rot.save('./train_imgs_augm/img_aug_1_'+str(img_num)+'.jpg')\n",
    "    \n",
    "#     new_row = {'label': [train_data_excel['label'][i]], 'p_label': [train_data_excel['p_label'][i]], 'filename': ['img_aug_2_'+str(img_num)+'.jpg'], 'name': [train_data_excel['name'][i]], 'price': [train_data_excel['price'][i]], }\n",
    "    \n",
    "#     my_row = pd.DataFrame(new_row)\n",
    "#     df_nw = pd.concat([df_nw, my_row], ignore_index=True)\n",
    "#     img_num += 1\n",
    "    \n",
    "# df_file = pd.read_excel(my_file_train_data)\n",
    "# df_file = pd.concat([df_file, df_nw], ignore_index=True)\n",
    "# df_file.to_excel(my_file_train_data, index=False)"
   ]
  },
  {
   "cell_type": "code",
   "execution_count": null,
   "metadata": {},
   "outputs": [],
   "source": []
  }
 ],
 "metadata": {
  "kernelspec": {
   "display_name": "Python 3",
   "language": "python",
   "name": "python3"
  },
  "language_info": {
   "codemirror_mode": {
    "name": "ipython",
    "version": 3
   },
   "file_extension": ".py",
   "mimetype": "text/x-python",
   "name": "python",
   "nbconvert_exporter": "python",
   "pygments_lexer": "ipython3",
   "version": "3.10.7"
  }
 },
 "nbformat": 4,
 "nbformat_minor": 2
}
