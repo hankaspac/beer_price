{
 "cells": [
  {
   "cell_type": "code",
   "execution_count": null,
   "metadata": {},
   "outputs": [
    {
     "name": "stdout",
     "output_type": "stream",
     "text": [
      "Initialised with 238 image(s) found.\n",
      "Output directory set to imgs\\output."
     ]
    },
    {
     "name": "stderr",
     "output_type": "stream",
     "text": [
      "Processing <PIL.Image.Image image mode=RGB size=3008x4000 at 0x1D7B61EFEB0>: 100%|██████████| 5/5 [00:02<00:00,  2.23 Samples/s]\n"
     ]
    }
   ],
   "source": [
    "# # Importing necessary library\n",
    "# import Augmentor\n",
    "# # Passing the path of the image directory\n",
    "# p = Augmentor.Pipeline('imgs')\n",
    " \n",
    "# # Defining augmentation parameters and generating 5 samples\n",
    "# p.flip_left_right(0.5)\n",
    "# p.black_and_white(0.1)\n",
    "# p.rotate(0.3, 10, 10)\n",
    "# p.skew(0.4, 0.5)\n",
    "# p.zoom(probability = 0.2, min_factor = 1.1, max_factor = 1.5)\n",
    "# p.sample(5)"
   ]
  },
  {
   "cell_type": "code",
   "execution_count": null,
   "metadata": {},
   "outputs": [],
   "source": [
    "# # code for displaying multiple images in one figure \n",
    "\n",
    "# #import libraries \n",
    "# import cv2 \n",
    "# from matplotlib import pyplot as plt \n",
    "\n",
    "# # create figure \n",
    "# fig = plt.figure(figsize=(10, 7)) \n",
    "\n",
    "# # setting values to rows and column variables \n",
    "# rows = 2\n",
    "# columns = 3\n",
    "\n",
    "# # reading images \n",
    "# Image1 = cv2.imread('imgs/output/imgs_original_IMG20241104133657.jpg_063ff8c2-0fee-40c5-b069-acb035d4a060.jpg') \n",
    "# Image2 = cv2.imread('imgs/output/imgs_original_IMG20241104135836.jpg_81a764a2-ae51-48ec-a02b-b2b7b2e8a1fa.jpg') \n",
    "# Image3 = cv2.imread('imgs/output/imgs_original_IMG20241104133055.jpg_ba96cc5f-2501-4541-bc45-90264da778a9.jpg') \n",
    "# Image4 = cv2.imread('imgs/output/imgs_original_IMG20241104133506.jpg_9f551f5c-a662-4205-bb14-384c05a2f0b0.jpg') \n",
    "# Image5 = cv2.imread('imgs/output/imgs_original_IMG20241104134315.jpg_d2582fcc-3f23-4ab5-8a63-cda387f08425.jpg') \n",
    "# Image6 = cv2.imread('imgs/output/imgs_original_IMG20241104133349.jpg_8aec3d89-43f3-4221-aa1a-5a7b75fdd8f5.jpg') \n",
    "\n",
    "\n",
    "# # Adds a subplot at the 1st position \n",
    "# fig.add_subplot(rows, columns, 1) \n",
    "\n",
    "# # showing image \n",
    "# plt.imshow(Image1) \n",
    "# plt.axis('off') \n",
    "\n",
    "# # Adds a subplot at the 2nd position \n",
    "# fig.add_subplot(rows, columns, 2) \n",
    "\n",
    "# # showing image \n",
    "# plt.imshow(Image2) \n",
    "# plt.axis('off') \n",
    "\n",
    "\n",
    "# # Adds a subplot at the 3rd position \n",
    "# fig.add_subplot(rows, columns, 3) \n",
    "\n",
    "# # showing image \n",
    "# plt.imshow(Image3) \n",
    "# plt.axis('off') \n",
    "\n",
    "\n",
    "# # Adds a subplot at the 4th position \n",
    "# fig.add_subplot(rows, columns, 4) \n",
    "\n",
    "# # showing image \n",
    "# plt.imshow(Image4) \n",
    "# plt.axis('off') \n",
    "\n",
    "# # Adds a subplot at the 4th position \n",
    "# fig.add_subplot(rows, columns, 5) \n",
    "\n",
    "# # showing image \n",
    "# plt.imshow(Image5) \n",
    "# plt.axis('off') \n",
    "\n",
    "# # Adds a subplot at the 4th position \n",
    "# fig.add_subplot(rows, columns, 6) \n",
    "\n",
    "# # showing image \n",
    "# plt.imshow(Image6) \n",
    "# plt.axis('off') "
   ]
  },
  {
   "cell_type": "code",
   "execution_count": 1,
   "metadata": {},
   "outputs": [],
   "source": [
    "# https://www.youtube.com/watch?v=rAdLwKJBvPM&ab_channel=AladdinPersson\n",
    "# first part of the video + 7:56 - important code"
   ]
  },
  {
   "cell_type": "code",
   "execution_count": 50,
   "metadata": {},
   "outputs": [],
   "source": [
    "import os\n",
    "import matplotlib.pyplot as plt\n",
    "import matplotlib.image as implt\n",
    "import numpy as np\n",
    "import cv2\n",
    "import glob\n",
    "import PIL\n",
    "from PIL import Image, ImageEnhance\n",
    "import pandas as pd\n",
    "from torchvision.utils import save_image\n",
    "import random"
   ]
  },
  {
   "cell_type": "code",
   "execution_count": 57,
   "metadata": {},
   "outputs": [],
   "source": [
    "def random_values(list):\n",
    "    rand_num = random.choice(list)\n",
    "    return rand_num"
   ]
  },
  {
   "cell_type": "code",
   "execution_count": 60,
   "metadata": {},
   "outputs": [
    {
     "data": {
      "text/plain": [
       "0.5"
      ]
     },
     "execution_count": 60,
     "metadata": {},
     "output_type": "execute_result"
    }
   ],
   "source": [
    "random_values([0.1,0.2,0.3,0.4,0.5])"
   ]
  },
  {
   "cell_type": "code",
   "execution_count": 81,
   "metadata": {},
   "outputs": [],
   "source": [
    "import PIL.Image\n",
    "\n",
    "\n",
    "my_path_train_imgs = './train_imgs_augm/'\n",
    "my_file_train_data = 'train_data.xlsx'\n",
    "\n",
    "train_data_excel = pd.read_excel(my_file_train_data)\n",
    "values_for_brightness = [0.2,0.3,0.4,0.5,0.6]\n",
    "values_for_rotate = [5, 8, 10, 12, 15, 0 ,-5, -8, -10, -12, -15,]\n",
    "\n",
    "# img = Image.open(my_path_train_imgs + train_data_excel['filename'][0])\n",
    "# # img_conv = ImageEnhance.Brightness(img)\n",
    "# # img_conv.enhance(1.0)\n",
    "# # img_conv.enhance(2.0).save('test.jpg')\n",
    "# img_rot = img.rotate(random_values(values_for_rotate))\n",
    "# img_rot.save('test.jpg')\n",
    "\n",
    "\n",
    "\n",
    "df_nw = pd.DataFrame()\n",
    "img_num = 0\n",
    "set_len = len(train_data_excel)\n",
    "for i in range(set_len):\n",
    "    img = Image.open(my_path_train_imgs + train_data_excel['filename'][i])\n",
    "    # img_conv = ImageEnhance.Brightness(img)\n",
    "    # img_conv.enhance(random_values(values_for_brightness)).save('./train_imgs_augm/img_aug_br_'+str(img_num)+'.jpg')\n",
    "    img_rot = img.rotate(random_values(values_for_rotate))\n",
    "    img_rot.save('./train_imgs_augm/img_aug_rot_'+str(img_num)+'.jpg')\n",
    "    \n",
    "    new_row = {'label': [train_data_excel['label'][i]], 'p_label': [train_data_excel['p_label'][i]], 'filename': ['img_aug_rot_'+str(img_num)+'.jpg'], 'name': [train_data_excel['name'][i]], 'price': [train_data_excel['price'][i]], }\n",
    "    \n",
    "    my_row = pd.DataFrame(new_row)\n",
    "    df_nw = pd.concat([df_nw, my_row], ignore_index=True)\n",
    "    img_num += 1\n",
    "    \n",
    "df_file = pd.read_excel(my_file_train_data)\n",
    "df_file = pd.concat([df_file, df_nw], ignore_index=True)\n",
    "df_file.to_excel(my_file_train_data, index=False)"
   ]
  },
  {
   "cell_type": "code",
   "execution_count": null,
   "metadata": {},
   "outputs": [],
   "source": []
  }
 ],
 "metadata": {
  "kernelspec": {
   "display_name": "Python 3",
   "language": "python",
   "name": "python3"
  },
  "language_info": {
   "codemirror_mode": {
    "name": "ipython",
    "version": 3
   },
   "file_extension": ".py",
   "mimetype": "text/x-python",
   "name": "python",
   "nbconvert_exporter": "python",
   "pygments_lexer": "ipython3",
   "version": "3.10.7"
  }
 },
 "nbformat": 4,
 "nbformat_minor": 2
}
